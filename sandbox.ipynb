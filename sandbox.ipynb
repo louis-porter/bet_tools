{
 "cells": [
  {
   "cell_type": "code",
   "execution_count": 1,
   "metadata": {},
   "outputs": [
    {
     "name": "stdout",
     "output_type": "stream",
     "text": [
      "        line  fair_prob\n",
      "0  BUR -0.25    0.44929\n",
      "1  PRE +0.25    0.55071\n",
      "        line  win_prob\n",
      "0   Over 2.0   0.40845\n",
      "1  Under 2.0   0.59155\n",
      "Optimal bet size: 4.5%\n",
      "Expected Value: 3.7%\n"
     ]
    }
   ],
   "source": [
    "from asian_handicap import predict_asian_handicap_from_xg\n",
    "from asian_totals import predict_goal_line_from_xg\n",
    "from kelly_criterion import kelly_expected"
   ]
  },
  {
   "cell_type": "code",
   "execution_count": 23,
   "metadata": {},
   "outputs": [
    {
     "name": "stdout",
     "output_type": "stream",
     "text": [
      "         line  fair_prob\n",
      "0  away -0.25    0.49996\n",
      "1  home +0.25    0.50004              line  win_prob\n",
      "0   Over 2.5, 3.0   0.49382\n",
      "1  Under 2.5, 3.0   0.50618\n"
     ]
    }
   ],
   "source": [
    "elevenify_home = 1.48\n",
    "elevenify_away = 1.69\n",
    "\n",
    "afpl_home = 1.31\n",
    "afpl_away = 1.71\n",
    "\n",
    "home_xg = (0.7*elevenify_home + 0.3*afpl_home)\n",
    "away_xg = (0.7*elevenify_away + 0.3*afpl_away)\n",
    "\n",
    "ah = predict_asian_handicap_from_xg(\"home\", \"away\", home_xg, away_xg, requested_lines=[0.25, -0.25])\n",
    "gl = predict_goal_line_from_xg(home_xg, away_xg, requested_lines=[\"2.5, 3.0\"])\n",
    "\n",
    "print(ah, gl)"
   ]
  },
  {
   "cell_type": "code",
   "execution_count": 27,
   "metadata": {},
   "outputs": [
    {
     "name": "stdout",
     "output_type": "stream",
     "text": [
      "Optimal bet size: 0.0%\n",
      "Expected Value: -3.7%\n"
     ]
    }
   ],
   "source": [
    "prob= 0.49382\n",
    "odds= 1.95\n",
    "fraction=1\n",
    "\n",
    "bet_size, ev = kelly_expected(prob, odds, fraction)\n",
    "print(f\"Optimal bet size: {bet_size:.1%}\")\n",
    "print(f\"Expected Value: {ev:.1f}%\")\n"
   ]
  },
  {
   "cell_type": "code",
   "execution_count": null,
   "metadata": {},
   "outputs": [
    {
     "name": "stdout",
     "output_type": "stream",
     "text": [
      "Optimal bet size: 3.5%\n",
      "Expected Value: 3.0%\n"
     ]
    }
   ],
   "source": [
    "prob= 0.55958  \n",
    "odds= 1.84\n",
    "fraction=1\n",
    "\n",
    "bet_size, ev = kelly_expected(prob, odds, fraction)\n",
    "print(f\"Optimal bet size: {bet_size:.1%}\")\n",
    "print(f\"Expected Value: {ev:.1f}%\")\n"
   ]
  }
 ],
 "metadata": {
  "kernelspec": {
   "display_name": "Python 3",
   "language": "python",
   "name": "python3"
  },
  "language_info": {
   "codemirror_mode": {
    "name": "ipython",
    "version": 3
   },
   "file_extension": ".py",
   "mimetype": "text/x-python",
   "name": "python",
   "nbconvert_exporter": "python",
   "pygments_lexer": "ipython3",
   "version": "3.12.2"
  }
 },
 "nbformat": 4,
 "nbformat_minor": 2
}
