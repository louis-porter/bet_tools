{
 "cells": [
  {
   "cell_type": "code",
   "execution_count": 2,
   "metadata": {},
   "outputs": [
    {
     "name": "stdout",
     "output_type": "stream",
     "text": [
      "        line  fair_prob\n",
      "0  BUR -0.25    0.44929\n",
      "1  PRE +0.25    0.55071\n",
      "        line  win_prob\n",
      "0   Over 2.0   0.40845\n",
      "1  Under 2.0   0.59155\n",
      "Optimal bet size: 4.5%\n",
      "Expected Value: 3.7%\n"
     ]
    }
   ],
   "source": [
    "from asian_handicap import predict_asian_handicap_from_xg\n",
    "from asian_totals import predict_goal_line_from_xg\n",
    "from kelly_criterion import kelly_expected"
   ]
  },
  {
   "cell_type": "code",
   "execution_count": 50,
   "metadata": {},
   "outputs": [
    {
     "name": "stdout",
     "output_type": "stream",
     "text": [
      "         line  fair_prob\n",
      "1  away +0.75   0.497575\n",
      "0  home -0.75   0.502425              line  win_prob\n",
      "0   Over 2.5, 3.0   0.46234\n",
      "1  Under 2.5, 3.0   0.53766\n"
     ]
    }
   ],
   "source": [
    "elevenify_home = 1.90\n",
    "elevenify_away = 1.09\n",
    "\n",
    "afpl_home = 1.90\n",
    "afpl_away = 1.09\n",
    "\n",
    "home_xg = (0.8*elevenify_home + 0.2*afpl_home)\n",
    "away_xg = (0.8*elevenify_away + 0.2*afpl_away)\n",
    "\n",
    "ah = predict_asian_handicap_from_xg(\"home\", \"away\", home_xg, away_xg, requested_lines=[0.75, -0.75])\n",
    "gl = predict_goal_line_from_xg(home_xg, away_xg, requested_lines=[\"2.5, 3.0\"])\n",
    "\n",
    "print(ah, gl)"
   ]
  },
  {
   "cell_type": "code",
   "execution_count": 53,
   "metadata": {},
   "outputs": [
    {
     "name": "stdout",
     "output_type": "stream",
     "text": [
      "Optimal bet size: 8.9%\n",
      "Expected Value: 9.1%\n"
     ]
    }
   ],
   "source": [
    "prob= 0.53766\n",
    "odds= 2.03\n",
    "fraction=1\n",
    "\n",
    "bet_size, ev = kelly_expected(prob, odds, fraction)\n",
    "print(f\"Optimal bet size: {bet_size:.1%}\")\n",
    "print(f\"Expected Value: {ev:.1f}%\")\n"
   ]
  },
  {
   "cell_type": "code",
   "execution_count": 39,
   "metadata": {},
   "outputs": [
    {
     "name": "stdout",
     "output_type": "stream",
     "text": [
      "Optimal bet size: 8.0%\n",
      "Expected Value: 6.7%\n"
     ]
    }
   ],
   "source": [
    "prob= 0.57987\n",
    "odds= 1.84\n",
    "fraction=1\n",
    "\n",
    "bet_size, ev = kelly_expected(prob, odds, fraction)\n",
    "print(f\"Optimal bet size: {bet_size:.1%}\")\n",
    "print(f\"Expected Value: {ev:.1f}%\")\n"
   ]
  }
 ],
 "metadata": {
  "kernelspec": {
   "display_name": "Python 3",
   "language": "python",
   "name": "python3"
  },
  "language_info": {
   "codemirror_mode": {
    "name": "ipython",
    "version": 3
   },
   "file_extension": ".py",
   "mimetype": "text/x-python",
   "name": "python",
   "nbconvert_exporter": "python",
   "pygments_lexer": "ipython3",
   "version": "3.12.2"
  }
 },
 "nbformat": 4,
 "nbformat_minor": 2
}
